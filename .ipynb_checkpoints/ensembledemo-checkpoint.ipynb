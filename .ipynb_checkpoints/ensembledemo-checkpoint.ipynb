{
 "cells": [
  {
   "cell_type": "code",
   "execution_count": null,
   "id": "b8ca69b7",
   "metadata": {},
   "outputs": [],
   "source": [
    "import numpy as np\n",
    "\n",
    "# Load saved predictions\n",
    "rf_pred = np.load('rf_predictions.npy')  # Load Random Forest predictions\n",
    "cnn_pred = np.load('cnn_predictions.npy')  # Load CNN predictions\n",
    "\n",
    "# Apply ensemble (weighted average in this example)\n",
    "w1, w2 = 0.6, 0.4  # You can tune these weights based on model performance\n",
    "final_pred = (w1 * rf_pred) + (w2 * cnn_pred)\n",
    "\n",
    "# Threshold to convert probabilities to binary predictions\n",
    "final_output = (final_pred > 0.5).astype(int)\n",
    "\n",
    "# Output final predictions\n",
    "print(\"Final Ensemble Predictions (0 = No stone, 1 = Stone detected):\", final_output)"
   ]
  }
 ],
 "metadata": {
  "kernelspec": {
   "display_name": "Python 3 (ipykernel)",
   "language": "python",
   "name": "python3"
  },
  "language_info": {
   "codemirror_mode": {
    "name": "ipython",
    "version": 3
   },
   "file_extension": ".py",
   "mimetype": "text/x-python",
   "name": "python",
   "nbconvert_exporter": "python",
   "pygments_lexer": "ipython3",
   "version": "3.11.5"
  }
 },
 "nbformat": 4,
 "nbformat_minor": 5
}
