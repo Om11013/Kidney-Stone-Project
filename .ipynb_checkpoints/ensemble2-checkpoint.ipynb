{
 "cells": [
  {
   "cell_type": "code",
   "execution_count": null,
   "id": "2bec2be2",
   "metadata": {},
   "outputs": [
    {
     "name": "stdout",
     "output_type": "stream",
     "text": [
      "Running on local URL:  http://127.0.0.1:7861\n",
      "\n",
      "To create a public link, set `share=True` in `launch()`.\n"
     ]
    },
    {
     "data": {
      "text/html": [
       "<div><iframe src=\"http://127.0.0.1:7861/\" width=\"100%\" height=\"500\" allow=\"autoplay; camera; microphone; clipboard-read; clipboard-write;\" frameborder=\"0\" allowfullscreen></iframe></div>"
      ],
      "text/plain": [
       "<IPython.core.display.HTML object>"
      ]
     },
     "metadata": {},
     "output_type": "display_data"
    }
   ],
   "source": [
    "import numpy as np\n",
    "import gradio as gr\n",
    "import tkinter as tk\n",
    "from tensorflow.keras.models import load_model\n",
    "import joblib\n",
    "from tensorflow.keras.preprocessing import image\n",
    "\n",
    "cnn_model = load_model('best_kidney_stone_model.keras')  \n",
    "random_forest_model = joblib.load('random_forest_model.pkl')  \n",
    "scaler = joblib.load('scaler.pkl')  \n",
    "\n",
    "def predict_cnn(cnn_model, img_path):\n",
    "    img = image.load_img(img_path, target_size=(64, 64))\n",
    "    img = image.img_to_array(img)\n",
    "    img = np.expand_dims(img, axis=0)\n",
    "    img = img / 255.0  \n",
    "    prediction = cnn_model.predict(img)\n",
    "    return prediction[0][0]\n",
    "\n",
    "def predict_random_forest(random_forest_model, urine_data, scaler):\n",
    "    urine_data_scaled = scaler.transform([urine_data])\n",
    "    prediction = random_forest_model.predict_proba(urine_data_scaled)\n",
    "    return prediction[0][1]\n",
    "\n",
    "def ensemble_predictions(cnn_pred, rf_pred):\n",
    "    cnn_weight = 0.7\n",
    "    rf_weight = 0.3\n",
    "    return (cnn_weight * cnn_pred) + (rf_weight * rf_pred)\n",
    "\n",
    "def make_prediction(ct_image, gravity, ph, osmolarity, conductivity, urea_concentration, calcium_concentration):\n",
    "    urine_data = [gravity, ph, osmolarity, conductivity, urea_concentration, calcium_concentration]\n",
    "\n",
    "    cnn_prediction = predict_cnn(cnn_model, ct_image)\n",
    "    rf_prediction = predict_random_forest(random_forest_model, urine_data, scaler)\n",
    "\n",
    "    final_prediction = ensemble_predictions(cnn_prediction, rf_prediction)\n",
    "\n",
    "    threshold = 0.5\n",
    "    predicted_class = \"Kidney Stone Present\" if final_prediction >= threshold else \"No Kidney Stone Present\"\n",
    "\n",
    "    return f\"Final Prediction: {predicted_class}\"\n",
    "\n",
    "\n",
    "root = tk.Tk()\n",
    "root.title(\"Kidney Stone Detection\")\n",
    "\n",
    "iface = gr.Interface(\n",
    "    fn=make_prediction,\n",
    "    inputs=[\n",
    "        gr.Image(type=\"filepath\", label=\"Upload CT Image\"),\n",
    "        gr.Slider(minimum=1.0, maximum=1.5, value=1.02, label=\"Specific Gravity\"),\n",
    "        gr.Slider(minimum=4.0, maximum=8.0, value=6.5, label=\"pH\"),\n",
    "        gr.Slider(minimum=0, maximum=3000, value=300, label=\"Osmolarity (mOsm/kg)\"),\n",
    "        gr.Slider(minimum=0, maximum=100, value=20, label=\"Conductivity (mS/m)\"),\n",
    "        gr.Slider(minimum=0, maximum=500, value=50, label=\"Urea Concentration (mg/dL)\"),\n",
    "        gr.Slider(minimum=0, maximum=50, value=10, label=\"Calcium Concentration (mg/dL)\"),\n",
    "    ],\n",
    "    outputs=\"text\",\n",
    "    title=\"Kidney Stone Detection\",\n",
    "    description=\"Upload a CT image and enter urine analysis details to predict kidney stone presence.\"\n",
    ")\n",
    "\n",
    "def launch_gradio():\n",
    "    iface.launch(share=False, inbrowser=True)\n",
    "\n",
    "import threading\n",
    "thread = threading.Thread(target=launch_gradio)\n",
    "thread.start()\n",
    "\n",
    "\n",
    "root.mainloop()\n"
   ]
  },
  {
   "cell_type": "code",
   "execution_count": null,
   "id": "7b6601d4",
   "metadata": {},
   "outputs": [],
   "source": []
  }
 ],
 "metadata": {
  "kernelspec": {
   "display_name": "Python 3 (ipykernel)",
   "language": "python",
   "name": "python3"
  },
  "language_info": {
   "codemirror_mode": {
    "name": "ipython",
    "version": 3
   },
   "file_extension": ".py",
   "mimetype": "text/x-python",
   "name": "python",
   "nbconvert_exporter": "python",
   "pygments_lexer": "ipython3",
   "version": "3.11.5"
  }
 },
 "nbformat": 4,
 "nbformat_minor": 5
}
